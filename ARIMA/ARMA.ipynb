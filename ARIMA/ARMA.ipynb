{
 "cells": [
  {
   "cell_type": "code",
   "execution_count": 1,
   "metadata": {
    "collapsed": true
   },
   "outputs": [],
   "source": [
    "import pandas as pd\n",
    "import numpy as np\n",
    "import os\n",
    "from datetime import timedelta\n",
    "import warnings\n",
    "warnings.filterwarnings('ignore')\n",
    "from IPython.display import display, HTML\n"
   ]
  },
  {
   "cell_type": "code",
   "execution_count": 2,
   "metadata": {},
   "outputs": [
    {
     "name": "stdout",
     "output_type": "stream",
     "text": [
      "Populating the interactive namespace from numpy and matplotlib\n"
     ]
    }
   ],
   "source": [
    "from sklearn.linear_model import LinearRegression\n",
    "from sklearn.model_selection import TimeSeriesSplit\n",
    "from sklearn.metrics import mean_absolute_error, mean_squared_error\n",
    "from  sklearn.metrics import mean_squared_error\n",
    "import matplotlib.pyplot as plt\n",
    "%pylab inline"
   ]
  },
  {
   "cell_type": "code",
   "execution_count": 3,
   "metadata": {},
   "outputs": [
    {
     "data": {
      "text/plain": [
       "['kaggle_sample_submission.csv', 'player_price.csv', 'player_stats.csv']"
      ]
     },
     "execution_count": 3,
     "metadata": {},
     "output_type": "execute_result"
    }
   ],
   "source": [
    "PATH = \"../data\"\n",
    "os.listdir(PATH)"
   ]
  },
  {
   "cell_type": "markdown",
   "metadata": {},
   "source": [
    "#### Read sample submission and dataset with price dynamics"
   ]
  },
  {
   "cell_type": "code",
   "execution_count": 4,
   "metadata": {
    "collapsed": true
   },
   "outputs": [],
   "source": [
    "sub = pd.read_csv(PATH+'/kaggle_sample_submission.csv')\n",
    "df_pp = pd.read_csv(PATH+'/player_price.csv')"
   ]
  },
  {
   "cell_type": "markdown",
   "metadata": {},
   "source": [
    "#### Change name of column in submission table"
   ]
  },
  {
   "cell_type": "code",
   "execution_count": 5,
   "metadata": {
    "collapsed": true
   },
   "outputs": [],
   "source": [
    "sub[\"player_id\"] = sub[\"id\"].apply(lambda x: int(x.split(\"_\")[0]))\n",
    "sub[\"Date\"] = sub[\"id\"].apply(lambda x: np.datetime64(x.split(\"_\")[1]))"
   ]
  },
  {
   "cell_type": "markdown",
   "metadata": {},
   "source": [
    "#### Change name of column in price dynamics table"
   ]
  },
  {
   "cell_type": "code",
   "execution_count": 6,
   "metadata": {
    "collapsed": true
   },
   "outputs": [],
   "source": [
    "df_pp = df_pp[df_pp[\"player_id\"].isin(sub[\"player_id\"].unique())]\n",
    "df_pp['Date'] = pd.to_datetime(df_pp['timestamp'], unit='ms')\n",
    "df_pp.drop([\"timestamp\", \"ps_price\", \"player_name\"], axis=1, inplace=True)"
   ]
  },
  {
   "cell_type": "code",
   "execution_count": 7,
   "metadata": {},
   "outputs": [
    {
     "data": {
      "text/html": [
       "<div>\n",
       "<style>\n",
       "    .dataframe thead tr:only-child th {\n",
       "        text-align: right;\n",
       "    }\n",
       "\n",
       "    .dataframe thead th {\n",
       "        text-align: left;\n",
       "    }\n",
       "\n",
       "    .dataframe tbody tr th {\n",
       "        vertical-align: top;\n",
       "    }\n",
       "</style>\n",
       "<table border=\"1\" class=\"dataframe\">\n",
       "  <thead>\n",
       "    <tr style=\"text-align: right;\">\n",
       "      <th></th>\n",
       "      <th>xbox_price</th>\n",
       "      <th>player_id</th>\n",
       "      <th>Date</th>\n",
       "    </tr>\n",
       "  </thead>\n",
       "  <tbody>\n",
       "    <tr>\n",
       "      <th>0</th>\n",
       "      <td>0</td>\n",
       "      <td>1</td>\n",
       "      <td>2016-09-23</td>\n",
       "    </tr>\n",
       "    <tr>\n",
       "      <th>1</th>\n",
       "      <td>10000000</td>\n",
       "      <td>1</td>\n",
       "      <td>2016-09-24</td>\n",
       "    </tr>\n",
       "  </tbody>\n",
       "</table>\n",
       "</div>"
      ],
      "text/plain": [
       "   xbox_price  player_id       Date\n",
       "0           0          1 2016-09-23\n",
       "1    10000000          1 2016-09-24"
      ]
     },
     "execution_count": 7,
     "metadata": {},
     "output_type": "execute_result"
    }
   ],
   "source": [
    "df_pp.head(2)"
   ]
  },
  {
   "cell_type": "markdown",
   "metadata": {
    "collapsed": true
   },
   "source": [
    "#### Prepare Data for training model in width style"
   ]
  },
  {
   "cell_type": "code",
   "execution_count": 8,
   "metadata": {
    "collapsed": true
   },
   "outputs": [],
   "source": [
    "def transform_data(X_train, Y_train):\n",
    "    \n",
    "    X_train[\"Date\"] = X_train[\"Date\"].astype(str)\n",
    "    dataForModel = pd.pivot_table(X_train, values=\"xbox_price\", \n",
    "                                  index='player_id', columns='Date',\n",
    "                                  aggfunc=np.sum)\n",
    "    dataForModel.sort_index(inplace=True)\n",
    "    \n",
    "    Y_train[\"Date\"] = Y_train[\"Date\"].astype(str)\n",
    "    dataForPrediction = pd.pivot_table(Y_train, values=\"xbox_price\", \n",
    "                                  index='player_id', columns='Date',\n",
    "                                  aggfunc=np.sum)\n",
    "    dataForPrediction.sort_index(inplace=True)\n",
    "    \n",
    "    return dataForModel, dataForPrediction"
   ]
  },
  {
   "cell_type": "markdown",
   "metadata": {},
   "source": [
    "### Data Preparation"
   ]
  },
  {
   "cell_type": "code",
   "execution_count": 9,
   "metadata": {
    "collapsed": true
   },
   "outputs": [],
   "source": [
    "def prepareXY(df, n=7):\n",
    "    x_train = df[:-n-1]\n",
    "    y_train = df[n:]\n",
    "    return x_train, y_train"
   ]
  },
  {
   "cell_type": "code",
   "execution_count": 10,
   "metadata": {
    "collapsed": true
   },
   "outputs": [],
   "source": [
    "def prepate_date(df, start=0, period=7, pr_period=7):\n",
    "    \n",
    "    end = start+period\n",
    "    x_train = df.iloc[ : , start:end]\n",
    "    x_train = x_train.fillna(0)\n",
    "    \n",
    "    y_train = df.iloc[ : , end:end+pr_period]\n",
    "    y_train = y_train.fillna(0)\n",
    "    \n",
    "    x_test = df.iloc[ : , end:end+period]\n",
    "    x_test = x_test.fillna(0)\n",
    "    \n",
    "    y_test = df.iloc[ : , end+period:end+period+pr_period]\n",
    "    y_test = y_test.fillna(0)\n",
    "    \n",
    "    return x_train, y_train, x_test, y_test"
   ]
  },
  {
   "cell_type": "code",
   "execution_count": 11,
   "metadata": {
    "collapsed": true
   },
   "outputs": [],
   "source": [
    "def weighted_average(series, weights):\n",
    "    result = 0.0\n",
    "    weights.reverse()\n",
    "    for n in range(len(weights)):\n",
    "        result += series[-n-1] * weights[n]\n",
    "    return result"
   ]
  },
  {
   "cell_type": "markdown",
   "metadata": {},
   "source": [
    "### Function for Model"
   ]
  },
  {
   "cell_type": "code",
   "execution_count": 12,
   "metadata": {
    "collapsed": true
   },
   "outputs": [],
   "source": [
    "#Currently finction doesn't work\n",
    "def model(x_train, y_train, x_test, y_test):\n",
    "    models = []\n",
    "    _y_test = y_test\n",
    "    \n",
    "    for day in target_df[\"Date\"].unique():\n",
    "        lr = LinearRegression(n_jobs=-1)\n",
    "        lr.fit(x_train, y_train.loc[target_df[\"Date\"] == day, \"xbox_price\"])\n",
    "        models.append(lr)\n",
    "    for i, day in enumerate(sub[\"Date\"].unique()):\n",
    "        _y_test.loc[sub[\"Date\"] == day, \"price\"] = models[i].predict(x_test)"
   ]
  },
  {
   "cell_type": "markdown",
   "metadata": {
    "collapsed": true
   },
   "source": [
    "### Prepare function for validation"
   ]
  },
  {
   "cell_type": "code",
   "execution_count": 13,
   "metadata": {},
   "outputs": [
    {
     "data": {
      "text/html": [
       "<div>\n",
       "<style>\n",
       "    .dataframe thead tr:only-child th {\n",
       "        text-align: right;\n",
       "    }\n",
       "\n",
       "    .dataframe thead th {\n",
       "        text-align: left;\n",
       "    }\n",
       "\n",
       "    .dataframe tbody tr th {\n",
       "        vertical-align: top;\n",
       "    }\n",
       "</style>\n",
       "<table border=\"1\" class=\"dataframe\">\n",
       "  <thead>\n",
       "    <tr style=\"text-align: right;\">\n",
       "      <th></th>\n",
       "      <th>xbox_price</th>\n",
       "      <th>player_id</th>\n",
       "      <th>Date</th>\n",
       "    </tr>\n",
       "  </thead>\n",
       "  <tbody>\n",
       "    <tr>\n",
       "      <th>0</th>\n",
       "      <td>0</td>\n",
       "      <td>1</td>\n",
       "      <td>2016-09-23</td>\n",
       "    </tr>\n",
       "    <tr>\n",
       "      <th>1</th>\n",
       "      <td>10000000</td>\n",
       "      <td>1</td>\n",
       "      <td>2016-09-24</td>\n",
       "    </tr>\n",
       "    <tr>\n",
       "      <th>2</th>\n",
       "      <td>0</td>\n",
       "      <td>1</td>\n",
       "      <td>2016-09-25</td>\n",
       "    </tr>\n",
       "    <tr>\n",
       "      <th>3</th>\n",
       "      <td>0</td>\n",
       "      <td>1</td>\n",
       "      <td>2016-09-26</td>\n",
       "    </tr>\n",
       "    <tr>\n",
       "      <th>4</th>\n",
       "      <td>10000000</td>\n",
       "      <td>1</td>\n",
       "      <td>2016-09-27</td>\n",
       "    </tr>\n",
       "  </tbody>\n",
       "</table>\n",
       "</div>"
      ],
      "text/plain": [
       "   xbox_price  player_id       Date\n",
       "0           0          1 2016-09-23\n",
       "1    10000000          1 2016-09-24\n",
       "2           0          1 2016-09-25\n",
       "3           0          1 2016-09-26\n",
       "4    10000000          1 2016-09-27"
      ]
     },
     "execution_count": 13,
     "metadata": {},
     "output_type": "execute_result"
    }
   ],
   "source": [
    "df = df_pp.iloc[:1]\n",
    "df_pp.head()"
   ]
  },
  {
   "cell_type": "code",
   "execution_count": 14,
   "metadata": {
    "collapsed": true
   },
   "outputs": [],
   "source": [
    "def split(X_train, Y_train, n_folds=35151):\n",
    "    \n",
    "    k = int(np.floor(float(X_train.shape[0]) / n_folds))\n",
    "    #print('Size of each fold: {}'.format(k))\n",
    "\n",
    "    last_index = 0\n",
    "    errors = []\n",
    "    for i in range(2, n_folds + 1):\n",
    "        split = float(i-1)/i\n",
    "        \n",
    "        X = X_train[:(k*i)]\n",
    "        y = Y_train[:(k*i)]\n",
    "        #print('Size of train + test: ', X.shape)\n",
    "        \n",
    "        index = int(np.floor(X.shape[0] * split))\n",
    "\n",
    "        #print(\"Index to split:\" + str(index))\n",
    "        #print('Splitting the first ' + str(i) + ' chunks at ' + str(i-1) + '/' + str(i) )\n",
    "        \n",
    "        X_trainFolds = X[last_index:index]        \n",
    "        y_trainFolds = y[last_index:index]\n",
    "        \n",
    "        # fold used to test the model\n",
    "        X_testFold = X[index:]\n",
    "        y_testFold = y[index:]\n",
    "        \n",
    "        #prepare Data for model\n",
    "        last_index = index\n",
    "        #print('X train shape ' + str(X_trainFolds.shape) + ' Y train shape ' + str(y_trainFolds.shape) )\n",
    "        #print('X test shape ' + str(X_testFold.shape) + ' Y test shape ' + str(y_testFold.shape) )\n",
    "    \n",
    "        X_trainFolds,Y_trainFolds  = transform_data(X_trainFolds, y_trainFolds)\n",
    "        \n",
    "        X_testFold, Y_testFold = transform_data(X_testFold, y_testFold)\n",
    "        \n",
    "\n",
    "        models = []\n",
    "        #errors = []\n",
    "        _y_test = Y_testFold.copy()\n",
    "        lr = LinearRegression(n_jobs=-1)\n",
    "        for day in Y_trainFolds.columns.unique():\n",
    "            #lr = LinearRegression(n_jobs=-1)\n",
    "            index =  Y_trainFolds.columns.unique().tolist().index(day)\n",
    "            lr.fit(X_trainFolds.ix[:,index:],  Y_trainFolds[day])\n",
    "            X_trainFolds[day] = Y_trainFolds[day]\n",
    "            \n",
    "            #models.append(lr)\n",
    "        \n",
    "        for j, day in enumerate(Y_testFold.columns.unique()):\n",
    "            _y_test[day] = 0\n",
    "            _y_test[day] = lr.predict(X_testFold)\n",
    "            #error = np.sqrt(((_y_test.values - Y_testFold.values) ** 2).mean())\n",
    "            error = np.mean(np.abs((Y_testFold.values - _y_test.values) / Y_testFold.values)) * 100\n",
    "            errors.append(error)\n",
    "        #print(\"Error\", np.mean(np.array(errors)))\n",
    "    #display(_y_test)\n",
    "    #display(Y_testFold)\n",
    "    return errors"
   ]
  },
  {
   "cell_type": "code",
   "execution_count": 15,
   "metadata": {},
   "outputs": [],
   "source": [
    "#n_folds = int(np.floor(float(train.shape[0]) / 7))\n"
   ]
  },
  {
   "cell_type": "code",
   "execution_count": 16,
   "metadata": {
    "collapsed": true
   },
   "outputs": [],
   "source": [
    "def weighted_average(series, weights):\n",
    "    result = 0.0\n",
    "    weights.reverse()\n",
    "    for n in range(len(weights)):\n",
    "        result += series[-n-1] * weights[n]\n",
    "    return result"
   ]
  },
  {
   "cell_type": "code",
   "execution_count": 17,
   "metadata": {
    "collapsed": true
   },
   "outputs": [],
   "source": [
    "def exponential_smoothing(series, alpha):\n",
    "    result = [series[0]] # first value is same as series\n",
    "    for n in range(1, len(series)):\n",
    "        result.append(alpha * series[n] + (1 - alpha) * result[n-1])\n",
    "    return result"
   ]
  },
  {
   "cell_type": "code",
   "execution_count": null,
   "metadata": {
    "collapsed": true
   },
   "outputs": [],
   "source": [
    "train = df_pp[df_pp.player_id == 1]"
   ]
  },
  {
   "cell_type": "code",
   "execution_count": null,
   "metadata": {},
   "outputs": [],
   "source": []
  },
  {
   "cell_type": "code",
   "execution_count": null,
   "metadata": {},
   "outputs": [],
   "source": []
  },
  {
   "cell_type": "code",
   "execution_count": null,
   "metadata": {
    "scrolled": false
   },
   "outputs": [],
   "source": [
    "er = []\n",
    "for player_id in df_pp.player_id.unique():\n",
    "    train = df_pp[df_pp.player_id == player_id]\n",
    "    train = train.reset_index()\n",
    "    res = exponential_smoothing(train['xbox_price'], 0.25)\n",
    "    train['xbox_price'] = pd.Series(res)\n",
    "    X_train, Y_train = prepareXY(train, 7)\n",
    "    n_folds = int(np.floor(float(X_train.shape[0]) / 7))\n",
    "    errors = split(X_train, Y_train, n_folds=n_folds)\n",
    "    er.append(errors)"
   ]
  },
  {
   "cell_type": "code",
   "execution_count": null,
   "metadata": {
    "collapsed": true
   },
   "outputs": [],
   "source": []
  },
  {
   "cell_type": "code",
   "execution_count": null,
   "metadata": {},
   "outputs": [],
   "source": []
  },
  {
   "cell_type": "code",
   "execution_count": null,
   "metadata": {},
   "outputs": [],
   "source": []
  },
  {
   "cell_type": "code",
   "execution_count": null,
   "metadata": {
    "scrolled": true
   },
   "outputs": [],
   "source": []
  },
  {
   "cell_type": "code",
   "execution_count": null,
   "metadata": {},
   "outputs": [],
   "source": []
  },
  {
   "cell_type": "code",
   "execution_count": null,
   "metadata": {
    "collapsed": true
   },
   "outputs": [],
   "source": []
  },
  {
   "cell_type": "code",
   "execution_count": null,
   "metadata": {
    "collapsed": true
   },
   "outputs": [],
   "source": []
  }
 ],
 "metadata": {
  "kernelspec": {
   "display_name": "Python 3",
   "language": "python",
   "name": "python3"
  },
  "language_info": {
   "codemirror_mode": {
    "name": "ipython",
    "version": 3
   },
   "file_extension": ".py",
   "mimetype": "text/x-python",
   "name": "python",
   "nbconvert_exporter": "python",
   "pygments_lexer": "ipython3",
   "version": "3.5.2"
  }
 },
 "nbformat": 4,
 "nbformat_minor": 2
}
